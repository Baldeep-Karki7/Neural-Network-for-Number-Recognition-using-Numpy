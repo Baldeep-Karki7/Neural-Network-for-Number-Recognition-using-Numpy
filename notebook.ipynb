{
 "cells": [
  {
   "cell_type": "code",
   "execution_count": 149,
   "id": "3b7b1259-06c4-44eb-8eb0-be54787a1040",
   "metadata": {},
   "outputs": [],
   "source": [
    "import numpy as np\n",
    "import pandas as pd\n",
    "import matplotlib.pyplot as plt"
   ]
  },
  {
   "cell_type": "code",
   "execution_count": 131,
   "id": "981aed1e-b711-43b4-8b8d-3e44e148c594",
   "metadata": {
    "scrolled": true
   },
   "outputs": [
    {
     "data": {
      "text/plain": [
       "array([5, 0, 4, 1, 9, 2, 3, 6, 7, 8])"
      ]
     },
     "execution_count": 131,
     "metadata": {},
     "output_type": "execute_result"
    }
   ],
   "source": [
    "data_train = pd.read_csv('./mnist_train.csv')\n",
    "data_test = pd.read_csv('./mnist_test.csv')\n",
    "data_train['label'].unique()"
   ]
  },
  {
   "cell_type": "code",
   "execution_count": 147,
   "id": "6a66e657-638b-41bc-b7f6-cbcc6d212980",
   "metadata": {},
   "outputs": [],
   "source": [
    "train = data_train.to_numpy()\n",
    "test = data_test.to_numpy()\n",
    "\n",
    "m, n = train.shape\n",
    "\n",
    "data_transpose = train.T\n",
    "\n",
    "test_transpose = test.T\n",
    "o, p = test_transpose.shape\n",
    "\n",
    "Y_test = test_transpose[0,:]\n",
    "X_test = test_transpose[1:p]\n",
    "X_test = X_test / 255"
   ]
  },
  {
   "cell_type": "code",
   "execution_count": 133,
   "id": "8d530f5c-2273-48e0-ba72-7836b95c3667",
   "metadata": {},
   "outputs": [
    {
     "data": {
      "text/plain": [
       "(784, 60000)"
      ]
     },
     "execution_count": 133,
     "metadata": {},
     "output_type": "execute_result"
    }
   ],
   "source": [
    "Y_train = data_transpose[0,:]\n",
    "X_train = data_transpose[1:n]\n",
    "X_train = X_train / 255\n",
    "X_train.shape"
   ]
  },
  {
   "cell_type": "markdown",
   "id": "7a6a409d-b451-4b1d-a63b-f763a04022df",
   "metadata": {},
   "source": [
    "#Create a neural network of 2 layers\n",
    "\n",
    "- 10 neurons in each layer\n",
    "- W1, b1 - wieght and bias of 1st layer\n",
    "- W2, b2 - weight and bias of 2nd layer\n",
    "\n",
    "\n",
    "  #Shape of W1 = (10,n) and b1(10,1)\n",
    "  \n",
    "  For W2 :\n",
    "      -There are 10 inputs each as a output of neurons of layer1 .\n",
    "      - Each neuron has 10 inputs. So 10 parameters for each\n",
    "      - W2 = (10,10) and b2 = (10,1)\n",
    "  \n",
    "   "
   ]
  },
  {
   "cell_type": "code",
   "execution_count": 134,
   "id": "4732591c-9e8a-4ecc-8e17-0ffd74f7e3fa",
   "metadata": {},
   "outputs": [],
   "source": [
    "#def init_params():\n",
    "   # W1 = np.zeros([10,n-1])\n",
    "   # b1 = np.zeros([10,1])\n",
    "   # W2 = np.zeros([10,10])\n",
    "   # b2 = np.zeros([10,1])\n",
    "\n",
    "def init_params():\n",
    "    W1 = np.random.rand(10, 784) - 0.5\n",
    "    b1 = np.random.rand(10, 1) - 0.5\n",
    "    W2 = np.random.rand(10, 10) - 0.5\n",
    "    b2 = np.random.rand(10, 1) - 0.5\n",
    "    return W1, b1, W2, b2\n",
    "\n",
    "    return W1,b1,W2,b2\n",
    "    \n",
    "def Relu(Z):\n",
    "    return np.maximum(Z,0)\n",
    "\n",
    "def softmax(Z):\n",
    "    A = np.exp(Z) / sum(np.exp(Z))\n",
    "    return A\n",
    "\n",
    "def one_hot_y(Y):\n",
    "    #creating a one hot encoding label for true value\n",
    "    one_hot_Y = np.zeros([Y.size,Y.max()+1])\n",
    "\n",
    "    # if 5 is present in Y then 5th index of one_hot_Y should be 1\n",
    "    one_hot_Y[np.arange(Y.size),Y] = 1\n",
    "    return one_hot_Y.T\n"
   ]
  },
  {
   "cell_type": "markdown",
   "id": "06f76042-2bcb-4e37-bc4a-317c93b9ceb5",
   "metadata": {},
   "source": [
    "#Z1 and Z2  = unactivated linear combination for layer 1 and 2 respectively\n",
    "\n",
    "A1 and A2 are activated output of  layer 1 and 2 respectuvely\n",
    "\n",
    "Z1 = W1 * X + b1   \n",
    "\n",
    "A1 = Relu(Z1)\n",
    "\n",
    "Z2 = W2 * A1 + b2"
   ]
  },
  {
   "cell_type": "code",
   "execution_count": 135,
   "id": "1451be67-f264-4e89-9f9d-3cfc1330e5f1",
   "metadata": {},
   "outputs": [],
   "source": [
    "#Forward propagation: \n",
    "\n",
    "def forward_propagation(W1,W2,b1,b2,X):\n",
    "    Z1 = W1.dot(X) + b1\n",
    "    A1 = Relu(Z1)\n",
    "    Z2 = W2.dot(A1) + b2\n",
    "    A2 = softmax(Z2)\n",
    "    return Z1,Z2,A1,A2\n",
    "\n",
    "def ReLU_deriv(Z):\n",
    "    return Z > 0"
   ]
  },
  {
   "cell_type": "markdown",
   "id": "241af7d1-4436-4416-92dd-6d3661e7a21b",
   "metadata": {},
   "source": [
    "Backward propagation :\n",
    "\n",
    "decreasing the error in paramters by using partial derivatives\n",
    "exactly like logistic regression\n",
    "\n",
    "-parameters  = W1,W2,b1,b2\n",
    "\n",
    "dW1,dW2,db1,db2 = partial derivaties of cost/loss function w.r to W1,W2,b1,b2\n",
    "\n",
    "deriving formula ....."
   ]
  },
  {
   "cell_type": "code",
   "execution_count": 136,
   "id": "6a330388-1852-4285-94be-2505a2c72c52",
   "metadata": {},
   "outputs": [],
   "source": [
    "def backward_propagation(W1,W2,b1,b2,A1,A2,Z1,Z2,X,Y):\n",
    "    one_hot_Y = one_hot_y(Y)\n",
    "    dZ2 = A2 - one_hot_Y\n",
    "    dW2 = 1 / m * dZ2.dot(A1.T)\n",
    "    db2 = 1 / m * np.sum(dZ2)\n",
    "    dZ1 = W2.T.dot(dZ2) * ReLU_deriv(Z1)\n",
    "    dW1 = 1 / m * dZ1.dot(X.T)\n",
    "    db1 = 1 / m * np.sum(dZ1)\n",
    "    return dW1, db1, dW2, db2\n",
    "\n",
    "def update_params(W1,W2,b1,b2,dW1,dW2,db1,db2,alpha):\n",
    "    W1 = W1 - alpha * dW1\n",
    "    W2 = W2 - alpha * dW2\n",
    "    b1 = b1 - alpha * db1\n",
    "    b2 = b2 - alpha * db2\n",
    "    return W1,W2,b1,b2\n",
    "\n",
    "def predict_value(A):\n",
    "    return np.argmax(A,0)\n",
    "\n",
    "def get_accuracy(prediction,Y):\n",
    "    print(prediction,Y)\n",
    "    return np.sum(prediction == Y)/(Y.size)"
   ]
  },
  {
   "cell_type": "markdown",
   "id": "af4edab8-591f-410b-997a-2a7722095cee",
   "metadata": {},
   "source": [
    "A is a matrix of size (10,60000) where 10 for 10 classes 0-9 and 60000 for 60000 images .\n",
    "Each column represents an image\n",
    "\n",
    "each row in the column is a probability value of the image being that number\n",
    "\n",
    "for eg if col 1 has 0.8 in 5 index -> 80% probab of the number being 5\n",
    "\n",
    "argmax returns the max value in a list in an axis\n",
    "here axis 0 means each columnn\n",
    "\n",
    "predict_value returns a list of size(1,60000)"
   ]
  },
  {
   "cell_type": "code",
   "execution_count": 137,
   "id": "036abf4b-7cb0-4c59-9480-46326a354f27",
   "metadata": {},
   "outputs": [],
   "source": [
    "def get_accuracy(prediction,Y):\n",
    "    print(prediction,Y)\n",
    "    accuracy =  np.sum(prediction == Y)/Y.size\n",
    "    return accuracy\n",
    "    "
   ]
  },
  {
   "cell_type": "code",
   "execution_count": 138,
   "id": "95ad38f1-e5c1-4c03-9097-628bd266e941",
   "metadata": {},
   "outputs": [],
   "source": [
    "\n",
    "\n",
    "def gradient_descent(alpha,epoch,X,Y):\n",
    "\n",
    "    W1,b1,W2,b2 = init_params()\n",
    "\n",
    "    for i in range(epoch):\n",
    "        #forward propagation\n",
    "        Z1,Z2,A1,A2 = forward_propagation(W1,W2,b1,b2,X)\n",
    "    \n",
    "        #to minimize the loss that has occurred in A2/prediction matrix we take partial derivative of loss\n",
    "        #function w.r to params\n",
    "        dW1,db1,dW2,db2 = backward_propagation(W1,W2,b1,b2,A1,A2,Z1,Z2,X,Y)\n",
    "    \n",
    "        #then we update the parameter\n",
    "        #Stochastic Gradient Descent is being used here\n",
    "\n",
    "        W1,W2,b1,b2 = update_params(W1,W2,b1,b2,dW1,dW2,db1,db2,alpha)\n",
    "\n",
    "        if i%10 == 0:\n",
    "            print(\"Iterations : \",i)\n",
    "            prediction = predict_value(A2)\n",
    "            print(get_accuracy(prediction,Y))\n",
    "\n",
    "    return W1,W2,b1,b2\n",
    "            \n",
    "    "
   ]
  },
  {
   "cell_type": "code",
   "execution_count": 139,
   "id": "b7b52534-4da2-4e4a-97aa-5bc6ef39754d",
   "metadata": {},
   "outputs": [
    {
     "name": "stdout",
     "output_type": "stream",
     "text": [
      "Iterations :  0\n",
      "[4 4 3 ... 7 3 4] [5 0 4 ... 5 6 8]\n",
      "0.15536666666666665\n",
      "Iterations :  10\n",
      "[2 0 3 ... 1 1 0] [5 0 4 ... 5 6 8]\n",
      "0.2648\n",
      "Iterations :  20\n",
      "[2 0 3 ... 7 3 0] [5 0 4 ... 5 6 8]\n",
      "0.34431666666666666\n",
      "Iterations :  30\n",
      "[5 0 3 ... 7 3 0] [5 0 4 ... 5 6 8]\n",
      "0.42485\n",
      "Iterations :  40\n",
      "[5 0 3 ... 7 6 0] [5 0 4 ... 5 6 8]\n",
      "0.48395\n",
      "Iterations :  50\n",
      "[5 0 2 ... 7 6 0] [5 0 4 ... 5 6 8]\n",
      "0.5296833333333333\n",
      "Iterations :  60\n",
      "[5 0 2 ... 0 6 8] [5 0 4 ... 5 6 8]\n",
      "0.5666166666666667\n",
      "Iterations :  70\n",
      "[5 0 2 ... 0 6 8] [5 0 4 ... 5 6 8]\n",
      "0.5975166666666667\n",
      "Iterations :  80\n",
      "[0 0 2 ... 0 6 8] [5 0 4 ... 5 6 8]\n",
      "0.6231166666666667\n",
      "Iterations :  90\n",
      "[0 0 2 ... 0 6 8] [5 0 4 ... 5 6 8]\n",
      "0.6455166666666666\n",
      "Iterations :  100\n",
      "[0 0 2 ... 0 6 8] [5 0 4 ... 5 6 8]\n",
      "0.66425\n",
      "Iterations :  110\n",
      "[0 0 2 ... 0 6 8] [5 0 4 ... 5 6 8]\n",
      "0.6808333333333333\n",
      "Iterations :  120\n",
      "[0 0 2 ... 0 6 8] [5 0 4 ... 5 6 8]\n",
      "0.6946833333333333\n",
      "Iterations :  130\n",
      "[0 0 2 ... 0 6 8] [5 0 4 ... 5 6 8]\n",
      "0.7061833333333334\n",
      "Iterations :  140\n",
      "[0 0 2 ... 0 6 8] [5 0 4 ... 5 6 8]\n",
      "0.7184833333333334\n",
      "Iterations :  150\n",
      "[0 0 2 ... 5 6 8] [5 0 4 ... 5 6 8]\n",
      "0.72795\n",
      "Iterations :  160\n",
      "[5 0 2 ... 5 6 8] [5 0 4 ... 5 6 8]\n",
      "0.7364333333333334\n",
      "Iterations :  170\n",
      "[5 0 2 ... 5 6 8] [5 0 4 ... 5 6 8]\n",
      "0.7454666666666667\n",
      "Iterations :  180\n",
      "[5 0 2 ... 5 6 8] [5 0 4 ... 5 6 8]\n",
      "0.7531833333333333\n",
      "Iterations :  190\n",
      "[5 0 4 ... 5 6 8] [5 0 4 ... 5 6 8]\n",
      "0.75975\n",
      "Iterations :  200\n",
      "[5 0 4 ... 5 6 8] [5 0 4 ... 5 6 8]\n",
      "0.7659833333333333\n",
      "Iterations :  210\n",
      "[5 0 4 ... 5 6 8] [5 0 4 ... 5 6 8]\n",
      "0.7712833333333333\n",
      "Iterations :  220\n",
      "[5 0 4 ... 5 6 8] [5 0 4 ... 5 6 8]\n",
      "0.7776833333333333\n",
      "Iterations :  230\n",
      "[5 0 4 ... 5 6 8] [5 0 4 ... 5 6 8]\n",
      "0.78365\n",
      "Iterations :  240\n",
      "[5 0 4 ... 5 6 8] [5 0 4 ... 5 6 8]\n",
      "0.7881\n",
      "Iterations :  250\n",
      "[5 0 4 ... 5 6 8] [5 0 4 ... 5 6 8]\n",
      "0.7920333333333334\n",
      "Iterations :  260\n",
      "[5 0 4 ... 5 6 8] [5 0 4 ... 5 6 8]\n",
      "0.7963\n",
      "Iterations :  270\n",
      "[5 0 4 ... 5 6 8] [5 0 4 ... 5 6 8]\n",
      "0.8002333333333334\n",
      "Iterations :  280\n",
      "[5 0 4 ... 5 6 8] [5 0 4 ... 5 6 8]\n",
      "0.80385\n",
      "Iterations :  290\n",
      "[5 0 4 ... 5 6 8] [5 0 4 ... 5 6 8]\n",
      "0.8067166666666666\n"
     ]
    }
   ],
   "source": [
    "learning_rate = 0.1\n",
    "epoch = 300\n",
    "\n",
    "W1,W2,b1,b2 = gradient_descent(learning_rate,epoch,X_train,Y_train)"
   ]
  },
  {
   "cell_type": "code",
   "execution_count": 156,
   "id": "1fcc73b6-7488-4a46-b2c3-c4d98cc4455a",
   "metadata": {},
   "outputs": [
    {
     "name": "stdout",
     "output_type": "stream",
     "text": [
      "4\n"
     ]
    },
    {
     "data": {
      "image/png": "[encoded data removed]",
      "text/plain": [
       "<Figure size 640x480 with 1 Axes>"
      ]
     },
     "metadata": {},
     "output_type": "display_data"
    }
   ],
   "source": [
    "def make_prediction(W1,W2,b1,b2,X):\n",
    "    _,_,_,A2 = forward_propagation(W1,W2,b1,b2,X)\n",
    "    prediction = predict_value(A2)\n",
    "    return prediction\n",
    "\n",
    "def testing(W1,W2,b1,b2,index,X,Y):\n",
    "\n",
    "    image = X_test[:,index]\n",
    "    prediction = make_prediction(W1,W2,b1,b2,X)[index]\n",
    "    label = Y_test[index]\n",
    "\n",
    "    print(prediction)\n",
    "    \n",
    "    image = image.reshape((28, 28)) * 255\n",
    "    plt.gray()\n",
    "    plt.imshow(image, interpolation='nearest')\n",
    "    plt.show()\n",
    "    \n",
    "testing(W1,W2,b1,b2,1300,X_test,Y_test)\n"
   ]
  },
  {
   "cell_type": "code",
   "execution_count": 148,
   "id": "f677c32b-0fee-451c-8d12-b17089acc42d",
   "metadata": {},
   "outputs": [
    {
     "name": "stdout",
     "output_type": "stream",
     "text": [
      "[7 2 1 ... 4 8 6] [7 2 1 ... 4 5 6]\n"
     ]
    },
    {
     "data": {
      "text/plain": [
       "np.float64(0.8084)"
      ]
     },
     "execution_count": 148,
     "metadata": {},
     "output_type": "execute_result"
    }
   ],
   "source": [
    "#getting accuracy in test set\n",
    "_,_,_,A2 = forward_propagation(W1,W2,b1,b2,X_test)\n",
    "prediction = predict_value(A2)\n",
    "get_accuracy(prediction,Y_test)"
   ]
  },
  {
   "cell_type": "code",
   "execution_count": null,
   "id": "ab7e51ee-a94b-4f71-8aef-bee251952d02",
   "metadata": {},
   "outputs": [],
   "source": []
  },
  {
   "cell_type": "code",
   "execution_count": null,
   "id": "40e2b41f-1159-491d-9ce8-2ce2b85c0131",
   "metadata": {},
   "outputs": [],
   "source": []
  }
 ],
 "metadata": {
  "kernelspec": {
   "display_name": "Python (tf-env)",
   "language": "python",
   "name": "tf-env"
  },
  "language_info": {
   "codemirror_mode": {
    "name": "ipython",
    "version": 3
   },
   "file_extension": ".py",
   "mimetype": "text/x-python",
   "name": "python",
   "nbconvert_exporter": "python",
   "pygments_lexer": "ipython3",
   "version": "3.10.5"
  }
 },
 "nbformat": 4,
 "nbformat_minor": 5
}
